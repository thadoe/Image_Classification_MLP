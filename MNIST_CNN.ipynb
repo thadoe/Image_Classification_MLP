{
  "nbformat": 4,
  "nbformat_minor": 0,
  "metadata": {
    "colab": {
      "name": "MNIST_CNN.ipynb",
      "provenance": []
    },
    "kernelspec": {
      "name": "python3",
      "display_name": "Python 3"
    }
  },
  "cells": [
    {
      "cell_type": "markdown",
      "metadata": {
        "id": "YgvPb3BTgSr9"
      },
      "source": [
        "**CNN for MNIST dataset**"
      ]
    },
    {
      "cell_type": "code",
      "metadata": {
        "id": "w9zDuIzhJUuO"
      },
      "source": [
        "from sklearn.datasets import fetch_openml \n",
        "\n",
        "import numpy as np\n",
        "import tensorflow as tf\n",
        "from tensorflow import keras\n",
        "import matplotlib.pyplot as plt\n",
        "from datetime import datetime\n",
        "\n",
        "from sklearn import metrics\n",
        "from sklearn.metrics import accuracy_score\n",
        "from sklearn.metrics import classification_report\n",
        "from sklearn.metrics import confusion_matrix\n",
        "\n",
        "from sklearn.preprocessing import StandardScaler\n",
        "from sklearn.model_selection import train_test_split\n",
        "from sklearn.model_selection import cross_val_score\n",
        "from sklearn.model_selection import cross_val_predict\n",
        "from sklearn.model_selection import GridSearchCV, RandomizedSearchCV"
      ],
      "execution_count": null,
      "outputs": []
    },
    {
      "cell_type": "code",
      "metadata": {
        "id": "rCx3j-laJwp4",
        "colab": {
          "base_uri": "https://localhost:8080/"
        },
        "outputId": "2b240b61-3c8d-4d9e-eb42-32166b0df2fd"
      },
      "source": [
        "mnist_dataset = fetch_openml('mnist_784')\n",
        "X = mnist_dataset['data']\n",
        "print(type(mnist_dataset))"
      ],
      "execution_count": null,
      "outputs": [
        {
          "output_type": "stream",
          "text": [
            "<class 'sklearn.utils.Bunch'>\n"
          ],
          "name": "stdout"
        }
      ]
    },
    {
      "cell_type": "code",
      "metadata": {
        "id": "6ab5MaaNLuWQ",
        "colab": {
          "base_uri": "https://localhost:8080/"
        },
        "outputId": "6c8567db-918d-4842-fb76-c985a4d9d374"
      },
      "source": [
        "print('X', type(X), X.shape)"
      ],
      "execution_count": null,
      "outputs": [
        {
          "output_type": "stream",
          "text": [
            "X <class 'numpy.ndarray'> (70000, 784)\n"
          ],
          "name": "stdout"
        }
      ]
    },
    {
      "cell_type": "code",
      "metadata": {
        "id": "6IUzp0I0MAMD",
        "colab": {
          "base_uri": "https://localhost:8080/"
        },
        "outputId": "41257414-95f3-4ede-d92e-857e313cac37"
      },
      "source": [
        "y = mnist_dataset['target']\n",
        "print('y', type(y), y.shape)\n"
      ],
      "execution_count": null,
      "outputs": [
        {
          "output_type": "stream",
          "text": [
            "y <class 'numpy.ndarray'> (70000,)\n"
          ],
          "name": "stdout"
        }
      ]
    },
    {
      "cell_type": "code",
      "metadata": {
        "id": "ee0lh47zMToC"
      },
      "source": [
        "X_train, X_test =  X[:60000], X[60000:]\n",
        "y_train, y_test =  y[:60000], y[60000:]"
      ],
      "execution_count": null,
      "outputs": []
    },
    {
      "cell_type": "code",
      "metadata": {
        "id": "j_Gvm6ByMwFe",
        "colab": {
          "base_uri": "https://localhost:8080/",
          "height": 285
        },
        "outputId": "36532b08-2ce5-4c7e-b619-10236e6e2efe"
      },
      "source": [
        "digit_train, count_train = np.unique(y_train, return_counts = True)\n",
        "distribution_train = dict (zip(digit_train,count_train))\n",
        "plt.bar(list(distribution_train.keys()), distribution_train.values(), width=0.6)\n"
      ],
      "execution_count": null,
      "outputs": [
        {
          "output_type": "execute_result",
          "data": {
            "text/plain": [
              "<BarContainer object of 10 artists>"
            ]
          },
          "metadata": {
            "tags": []
          },
          "execution_count": 29
        },
        {
          "output_type": "display_data",
          "data": {
            "image/png": "[encoded data removed]",
            "text/plain": [
              "<Figure size 432x288 with 1 Axes>"
            ]
          },
          "metadata": {
            "tags": [],
            "needs_background": "light"
          }
        }
      ]
    },
    {
      "cell_type": "code",
      "metadata": {
        "id": "ZuaDtvrbNiGz",
        "colab": {
          "base_uri": "https://localhost:8080/",
          "height": 337
        },
        "outputId": "0f1bf911-ad48-4522-b295-1194556f6b31"
      },
      "source": [
        "plt.hist(y_train,density = True, width = 0.6)\n"
      ],
      "execution_count": null,
      "outputs": [
        {
          "output_type": "execute_result",
          "data": {
            "text/plain": [
              "(array([0.10038889, 0.10968519, 0.10818519, 0.12485185, 0.11016667,\n",
              "        0.11033333, 0.11353704, 0.10959259, 0.11601852, 0.10835185]),\n",
              " array([0. , 0.9, 1.8, 2.7, 3.6, 4.5, 5.4, 6.3, 7.2, 8.1, 9. ]),\n",
              " <a list of 10 Patch objects>)"
            ]
          },
          "metadata": {
            "tags": []
          },
          "execution_count": 30
        },
        {
          "output_type": "display_data",
          "data": {
            "image/png": "[encoded data removed]",
            "text/plain": [
              "<Figure size 432x288 with 1 Axes>"
            ]
          },
          "metadata": {
            "tags": [],
            "needs_background": "light"
          }
        }
      ]
    },
    {
      "cell_type": "code",
      "metadata": {
        "id": "AGZl2YKvN1R7",
        "colab": {
          "base_uri": "https://localhost:8080/",
          "height": 283
        },
        "outputId": "6824a69c-3dce-42fd-b384-62d02546aa43"
      },
      "source": [
        "digit_test, counts_test = np.unique(y_test, return_counts=True)\n",
        "distribution_test = dict(zip(digit_test, counts_test))\n",
        "plt.bar(list(distribution_test.keys()), distribution_test.values(), width = 0.6)"
      ],
      "execution_count": null,
      "outputs": [
        {
          "output_type": "execute_result",
          "data": {
            "text/plain": [
              "<BarContainer object of 10 artists>"
            ]
          },
          "metadata": {
            "tags": []
          },
          "execution_count": 31
        },
        {
          "output_type": "display_data",
          "data": {
            "image/png": "[encoded data removed]",
            "text/plain": [
              "<Figure size 432x288 with 1 Axes>"
            ]
          },
          "metadata": {
            "tags": [],
            "needs_background": "light"
          }
        }
      ]
    },
    {
      "cell_type": "code",
      "metadata": {
        "id": "e8q6Sz3POk3p",
        "colab": {
          "base_uri": "https://localhost:8080/",
          "height": 337
        },
        "outputId": "6482e45c-39e8-4e31-c7d6-eb5428140333"
      },
      "source": [
        "plt.hist(y_test, density = True , width = 0.6)"
      ],
      "execution_count": null,
      "outputs": [
        {
          "output_type": "execute_result",
          "data": {
            "text/plain": [
              "(array([0.11422222, 0.11466667, 0.12611111, 0.10888889, 0.10911111,\n",
              "        0.11211111, 0.09911111, 0.10644444, 0.11222222, 0.10822222]),\n",
              " array([0. , 0.9, 1.8, 2.7, 3.6, 4.5, 5.4, 6.3, 7.2, 8.1, 9. ]),\n",
              " <a list of 10 Patch objects>)"
            ]
          },
          "metadata": {
            "tags": []
          },
          "execution_count": 32
        },
        {
          "output_type": "display_data",
          "data": {
            "image/png": "[encoded data removed]",
            "text/plain": [
              "<Figure size 432x288 with 1 Axes>"
            ]
          },
          "metadata": {
            "tags": [],
            "needs_background": "light"
          }
        }
      ]
    },
    {
      "cell_type": "code",
      "metadata": {
        "id": "8s16ZmVOOx3G",
        "colab": {
          "base_uri": "https://localhost:8080/",
          "height": 235
        },
        "outputId": "29a690f6-90d3-498c-fc2c-16d060ed63b9"
      },
      "source": [
        "from random import randint\n",
        "rnd_number = randint(0,len(X_train))\n",
        "scaler = StandardScaler()\n",
        "X_train_scaled = scaler.fit_transform(X_train.astype(np.float64))\n",
        "plt.subplot(1,2,1)\n",
        "plt.imshow(X_train[rnd_number].reshape(28,28),cmap=plt.cm.binary, interpolation='nearest')\n",
        "plt.title('Before Scaling')\n",
        "plt.subplot(1,2,2)\n",
        "plt.imshow(X_train_scaled[rnd_number].reshape(28,28),cmap=plt.cm.binary, interpolation='nearest')\n",
        "plt.title('After Scaling')\n"
      ],
      "execution_count": null,
      "outputs": [
        {
          "output_type": "execute_result",
          "data": {
            "text/plain": [
              "Text(0.5, 1.0, 'After Scaling')"
            ]
          },
          "metadata": {
            "tags": []
          },
          "execution_count": 33
        },
        {
          "output_type": "display_data",
          "data": {
            "image/png": "[encoded data removed]",
            "text/plain": [
              "<Figure size 432x288 with 2 Axes>"
            ]
          },
          "metadata": {
            "tags": [],
            "needs_background": "light"
          }
        }
      ]
    },
    {
      "cell_type": "code",
      "metadata": {
        "id": "lHweb7XxPcYA",
        "colab": {
          "base_uri": "https://localhost:8080/"
        },
        "outputId": "c1d74c52-1d53-4ac2-d75e-3feec499bf7b"
      },
      "source": [
        "X_train, X_val, y_train, y_val = train_test_split (X_train, y_train, test_size = 1/6 , random_state = 42)\n",
        "print(X_train.shape, X_val.shape)"
      ],
      "execution_count": null,
      "outputs": [
        {
          "output_type": "stream",
          "text": [
            "(50000, 784) (10000, 784)\n"
          ],
          "name": "stdout"
        }
      ]
    },
    {
      "cell_type": "code",
      "metadata": {
        "id": "xkVWQorvSi_q",
        "colab": {
          "base_uri": "https://localhost:8080/"
        },
        "outputId": "a0b64eb4-004e-41ac-a056-4311355dbd7b"
      },
      "source": [
        "X_train = X_train.reshape((-1,28,28,1))\n",
        "X_train.shape"
      ],
      "execution_count": null,
      "outputs": [
        {
          "output_type": "execute_result",
          "data": {
            "text/plain": [
              "(50000, 28, 28, 1)"
            ]
          },
          "metadata": {
            "tags": []
          },
          "execution_count": 37
        }
      ]
    },
    {
      "cell_type": "code",
      "metadata": {
        "id": "mt-QX02sT3OW",
        "colab": {
          "base_uri": "https://localhost:8080/"
        },
        "outputId": "352589fd-18eb-47d2-95b2-e37ee2f5e15b"
      },
      "source": [
        "X_val = X_val.reshape((-1,28,28,1))\n",
        "X_val.shape"
      ],
      "execution_count": null,
      "outputs": [
        {
          "output_type": "execute_result",
          "data": {
            "text/plain": [
              "(10000, 28, 28, 1)"
            ]
          },
          "metadata": {
            "tags": []
          },
          "execution_count": 38
        }
      ]
    },
    {
      "cell_type": "code",
      "metadata": {
        "id": "o5yg0ykARBKy",
        "colab": {
          "base_uri": "https://localhost:8080/"
        },
        "outputId": "68d9c348-930c-4449-fdc1-cdf8bae657e6"
      },
      "source": [
        "import keras\n",
        "from keras.layers import Activation, Dense\n",
        "\n",
        "model = keras.models.Sequential()\n",
        "model.add(Conv2D(32, kernel_size = (3,3), activation = 'relu', input_shape = [28,28,1]))\n",
        "model.add(Conv2D(64, (3,3), activation = 'relu'))\n",
        "model.add(MaxPooling2D(pool_size=(2,2)))\n",
        "model.add(keras.layers.Dropout(0.25))\n",
        "model.add(keras.layers.Flatten())\n",
        "model.add(Dense(128, activation = 'relu'))\n",
        "model.add(keras.layers.Dropout(0.5))\n",
        "model.add(Dense(10, activation = 'softmax'))\n",
        "model.summary()\n"
      ],
      "execution_count": null,
      "outputs": [
        {
          "output_type": "stream",
          "text": [
            "Model: \"sequential_8\"\n",
            "_________________________________________________________________\n",
            "Layer (type)                 Output Shape              Param #   \n",
            "=================================================================\n",
            "conv2d_12 (Conv2D)           (None, 26, 26, 32)        320       \n",
            "_________________________________________________________________\n",
            "conv2d_13 (Conv2D)           (None, 24, 24, 64)        18496     \n",
            "_________________________________________________________________\n",
            "max_pooling2d_5 (MaxPooling2 (None, 12, 12, 64)        0         \n",
            "_________________________________________________________________\n",
            "dropout_1 (Dropout)          (None, 12, 12, 64)        0         \n",
            "_________________________________________________________________\n",
            "flatten (Flatten)            (None, 9216)              0         \n",
            "_________________________________________________________________\n",
            "dense (Dense)                (None, 128)               1179776   \n",
            "_________________________________________________________________\n",
            "dropout_2 (Dropout)          (None, 128)               0         \n",
            "_________________________________________________________________\n",
            "dense_1 (Dense)              (None, 10)                1290      \n",
            "=================================================================\n",
            "Total params: 1,199,882\n",
            "Trainable params: 1,199,882\n",
            "Non-trainable params: 0\n",
            "_________________________________________________________________\n"
          ],
          "name": "stdout"
        }
      ]
    },
    {
      "cell_type": "code",
      "metadata": {
        "id": "FYRnRLjgYbKK",
        "colab": {
          "base_uri": "https://localhost:8080/"
        },
        "outputId": "e99f7410-6c6f-4fee-ea98-d578450102ea"
      },
      "source": [
        "from tensorflow.keras.optimizers import SGD\n",
        "sgd = SGD(learning_rate = 0.001)\n",
        "model.compile(optimizer = sgd, loss ='sparse_categorical_crossentropy', metrics=['accuracy'])\n",
        "\n",
        "X_train = X_train.astype('float32')/255.0\n",
        "y_train = y_train.astype('uint')\n",
        "X_val   = X_val.astype('float32')/255.0\n",
        "y_val   = y_val.astype('uint')\n",
        "\n",
        "model.fit(X_train,y_train,batch_size=120, epochs = 10, validation_data=(X_val,y_val))"
      ],
      "execution_count": null,
      "outputs": [
        {
          "output_type": "stream",
          "text": [
            "Epoch 1/10\n",
            "417/417 [==============================] - 116s 279ms/step - loss: 2.2309 - accuracy: 0.2088 - val_loss: 2.1087 - val_accuracy: 0.4703\n",
            "Epoch 2/10\n",
            "417/417 [==============================] - 116s 278ms/step - loss: 1.9182 - accuracy: 0.4312 - val_loss: 1.5158 - val_accuracy: 0.7020\n",
            "Epoch 3/10\n",
            "417/417 [==============================] - 116s 279ms/step - loss: 1.3154 - accuracy: 0.6066 - val_loss: 0.8350 - val_accuracy: 0.8106\n",
            "Epoch 4/10\n",
            "417/417 [==============================] - 120s 287ms/step - loss: 0.9307 - accuracy: 0.7104 - val_loss: 0.5853 - val_accuracy: 0.8504\n",
            "Epoch 5/10\n",
            "417/417 [==============================] - 116s 278ms/step - loss: 0.7619 - accuracy: 0.7612 - val_loss: 0.4793 - val_accuracy: 0.8709\n",
            "Epoch 6/10\n",
            "417/417 [==============================] - 117s 280ms/step - loss: 0.6707 - accuracy: 0.7922 - val_loss: 0.4219 - val_accuracy: 0.8832\n",
            "Epoch 7/10\n",
            "417/417 [==============================] - 117s 280ms/step - loss: 0.6089 - accuracy: 0.8116 - val_loss: 0.3829 - val_accuracy: 0.8908\n",
            "Epoch 8/10\n",
            "417/417 [==============================] - 117s 280ms/step - loss: 0.5690 - accuracy: 0.8236 - val_loss: 0.3560 - val_accuracy: 0.8972\n",
            "Epoch 9/10\n",
            "417/417 [==============================] - 121s 290ms/step - loss: 0.5357 - accuracy: 0.8362 - val_loss: 0.3372 - val_accuracy: 0.9052\n",
            "Epoch 10/10\n",
            "417/417 [==============================] - 117s 281ms/step - loss: 0.5101 - accuracy: 0.8431 - val_loss: 0.3194 - val_accuracy: 0.9095\n"
          ],
          "name": "stdout"
        },
        {
          "output_type": "execute_result",
          "data": {
            "text/plain": [
              "<tensorflow.python.keras.callbacks.History at 0x7f0e4c81e5f8>"
            ]
          },
          "metadata": {
            "tags": []
          },
          "execution_count": 49
        }
      ]
    },
    {
      "cell_type": "code",
      "metadata": {
        "id": "ASkhlhf3efFx",
        "colab": {
          "base_uri": "https://localhost:8080/"
        },
        "outputId": "111b0f7f-5bec-4159-d954-da08e1f74495"
      },
      "source": [
        "X_test = X_test.reshape((-1,28,28,1))\n",
        "X_test.shape"
      ],
      "execution_count": null,
      "outputs": [
        {
          "output_type": "execute_result",
          "data": {
            "text/plain": [
              "(10000, 28, 28, 1)"
            ]
          },
          "metadata": {
            "tags": []
          },
          "execution_count": 50
        }
      ]
    },
    {
      "cell_type": "markdown",
      "metadata": {
        "id": "S1-TMBmlBqNa"
      },
      "source": [
        "**TEST ACCURACY**"
      ]
    },
    {
      "cell_type": "code",
      "metadata": {
        "id": "Ykw_9r83em9I",
        "colab": {
          "base_uri": "https://localhost:8080/"
        },
        "outputId": "1255574b-6613-411c-c787-04a2fd4d0836"
      },
      "source": [
        "X_test = X_test.astype('float32')/255.0\n",
        "y_test = y_test.astype('uint')\n",
        "\n",
        "loss,acc = model.evaluate(X_test,y_test)\n",
        "print('Accuracy: %.3f' % acc)"
      ],
      "execution_count": null,
      "outputs": [
        {
          "output_type": "stream",
          "text": [
            "313/313 [==============================] - 7s 21ms/step - loss: 0.3098 - accuracy: 0.9137\n",
            "Accuracy: 0.914\n"
          ],
          "name": "stdout"
        }
      ]
    },
    {
      "cell_type": "code",
      "metadata": {
        "id": "dE_DeGtffP_p",
        "colab": {
          "base_uri": "https://localhost:8080/"
        },
        "outputId": "218b4ad1-386f-488c-84e2-0b030615a4d1"
      },
      "source": [
        "from sklearn.metrics import classification_report, confusion_matrix\n",
        "\n",
        "y_proba = model.predict(X_test)\n",
        "y_pred = model.predict_classes(X_test)\n",
        "print('Confusion Matrix')\n",
        "print(confusion_matrix(y_pred, y_test))\n",
        "print('Classification Report')\n",
        "print(classification_report(y_pred, y_test))\n"
      ],
      "execution_count": null,
      "outputs": [
        {
          "output_type": "stream",
          "text": [
            "WARNING:tensorflow:From <ipython-input-53-4b54fdcb6ea0>:4: Sequential.predict_classes (from tensorflow.python.keras.engine.sequential) is deprecated and will be removed after 2021-01-01.\n",
            "Instructions for updating:\n",
            "Please use instead:* `np.argmax(model.predict(x), axis=-1)`,   if your model does multi-class classification   (e.g. if it uses a `softmax` last-layer activation).* `(model.predict(x) > 0.5).astype(\"int32\")`,   if your model does binary classification   (e.g. if it uses a `sigmoid` last-layer activation).\n",
            "Confusion Matrix\n",
            "[[ 958    0   11    4    1   11   12    3    7   13]\n",
            " [   0 1116    2    1    2    4    3   19    9    8]\n",
            " [   3    3  911   22    4    2    4   23    8    5]\n",
            " [   1    3   13  902    0   41    1    2   21   11]\n",
            " [   0    1   18    1  897   14   11   11    9   40]\n",
            " [   3    1    1   25    0  769   18    0   24    6]\n",
            " [   9    4   20    3   18   20  904    1   12    0]\n",
            " [   1    0   21   14    3    3    1  927   11   23]\n",
            " [   5    7   34   26    4   21    4    5  857    7]\n",
            " [   0    0    1   12   53    7    0   37   16  896]]\n",
            "Classification Report\n",
            "              precision    recall  f1-score   support\n",
            "\n",
            "           0       0.98      0.94      0.96      1020\n",
            "           1       0.98      0.96      0.97      1164\n",
            "           2       0.88      0.92      0.90       985\n",
            "           3       0.89      0.91      0.90       995\n",
            "           4       0.91      0.90      0.90      1002\n",
            "           5       0.86      0.91      0.88       847\n",
            "           6       0.94      0.91      0.93       991\n",
            "           7       0.90      0.92      0.91      1004\n",
            "           8       0.88      0.88      0.88       970\n",
            "           9       0.89      0.88      0.88      1022\n",
            "\n",
            "    accuracy                           0.91     10000\n",
            "   macro avg       0.91      0.91      0.91     10000\n",
            "weighted avg       0.91      0.91      0.91     10000\n",
            "\n"
          ],
          "name": "stdout"
        }
      ]
    },
    {
      "cell_type": "code",
      "metadata": {
        "id": "EVtc7exYfrDE"
      },
      "source": [
        ""
      ],
      "execution_count": null,
      "outputs": []
    }
  ]
}